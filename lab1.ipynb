{
 "cells": [
  {
   "cell_type": "code",
   "execution_count": 117,
   "metadata": {},
   "outputs": [
    {
     "name": "stdout",
     "output_type": "stream",
     "text": [
      "              artist_name  year  total  rank\n",
      "0                The Cult  2009   4.95     1\n",
      "1             Deep Purple  2009   3.96     2\n",
      "2                  Djavan  2009   2.97     3\n",
      "3            Eric Clapton  2009   2.97     3\n",
      "4               The Clash  2009   2.97     3\n",
      "11            Iron Maiden  2010  13.86     1\n",
      "12         Caetano Veloso  2010   1.98     2\n",
      "13        Various Artists  2010   1.98     2\n",
      "14               Ed Motta  2010   1.98     2\n",
      "15            Deep Purple  2010   1.98     2\n",
      "16            Miles Davis  2010   1.98     2\n",
      "17             Gene Krupa  2010   1.98     2\n",
      "18    Toquinho & Vinícius  2010   1.98     2\n",
      "19           Eric Clapton  2010   1.98     2\n",
      "22              Van Halen  2011   5.94     1\n",
      "23  Red Hot Chili Peppers  2011   4.95     2\n",
      "24    Toquinho & Vinícius  2011   2.97     3\n",
      "25            Raul Seixas  2011   2.97     3\n",
      "31             The Office  2012   5.97     1\n",
      "32   Antônio Carlos Jobim  2012   5.94     2\n",
      "33            Iron Maiden  2012   5.94     2\n",
      "34              Metallica  2013   5.94     1\n",
      "35           Gilberto Gil  2013   3.96     2\n",
      "36           Eric Clapton  2013   3.96     2\n"
     ]
    }
   ],
   "source": [
    "import sqlite3\n",
    "import pandas as pd\n",
    "\n",
    "# Step 1: Connect to DB\n",
    "conn = sqlite3.connect(\"chinook.db\")\n",
    "\n",
    "# Step 2: Execute query and send results to pandas dataframe:\n",
    "df = pd.read_sql_query(\"\"\"          \n",
    "                    SELECT \n",
    "                        ca.artist_name,\n",
    "                        ca.year,\n",
    "                        SUM(ca.UnitPrice) total,\n",
    "                        rank() over (partition by year order by SUM(ca.UnitPrice) desc) rank\n",
    "                    FROM\n",
    "                        (SELECT \n",
    "                                invoice_items.TrackId,\n",
    "                                invoice_items.UnitPrice,\n",
    "                                invoices.Total,\n",
    "                                invoices.InvoiceId AS invoice_id,\n",
    "                                STRFTIME( '%Y', invoices.InvoiceDate) AS year,\n",
    "                                invoices.BillingState,\n",
    "                                tracks.AlbumID AS album_id,\n",
    "                                artists.ArtistID AS artist_id,\n",
    "                                artists.Name AS artist_name\n",
    "                        FROM\n",
    "                            invoice_items\n",
    "                        INNER JOIN invoices ON invoices.InvoiceId = invoice_items.InvoiceId\n",
    "                        INNER JOIN tracks ON tracks.TrackId = invoice_items.TrackId\n",
    "                        INNER JOIN albums ON albums.AlbumId = tracks.AlbumId\n",
    "                        INNER JOIN artists ON artists.ArtistId = albums.ArtistId\n",
    "                        WHERE\n",
    "                            invoices.BillingState = 'CA') ca\n",
    "                    GROUP BY ca.artist_id , 2;                    \n",
    "                 \"\"\"\n",
    "              ,conn)\n",
    "top3_CA = df[df['rank'] <= 3]\n",
    "print(top3_CA)\n",
    "\n"
   ]
  }
 ],
 "metadata": {
  "kernelspec": {
   "display_name": "env-stats404-w20",
   "language": "python",
   "name": "env-stats404-w20"
  },
  "language_info": {
   "codemirror_mode": {
    "name": "ipython",
    "version": 3
   },
   "file_extension": ".py",
   "mimetype": "text/x-python",
   "name": "python",
   "nbconvert_exporter": "python",
   "pygments_lexer": "ipython3",
   "version": "3.7.6"
  }
 },
 "nbformat": 4,
 "nbformat_minor": 4
}
