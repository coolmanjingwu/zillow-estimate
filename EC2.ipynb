{
 "cells": [
  {
   "cell_type": "code",
   "execution_count": 63,
   "metadata": {},
   "outputs": [
    {
     "name": "stdout",
     "output_type": "stream",
     "text": [
      "('The Cult', '2009', 4.95, 1)\n",
      "('Deep Purple', '2009', 3.96, 2)\n",
      "('Djavan', '2009', 2.9699999999999998, 3)\n",
      "('Eric Clapton', '2009', 2.9699999999999998, 3)\n",
      "('The Clash', '2009', 2.9699999999999998, 3)\n",
      "('Def Leppard', '2009', 1.98, 6)\n",
      "('Spyro Gyra', '2009', 1.98, 6)\n",
      "('Dennis Chambers', '2009', 0.99, 8)\n",
      "('Elis Regina', '2009', 0.99, 8)\n",
      "('Green Day', '2009', 0.99, 8)\n",
      "('The Doors', '2009', 0.99, 8)\n",
      "('Iron Maiden', '2010', 13.860000000000001, 1)\n",
      "('Caetano Veloso', '2010', 1.98, 2)\n",
      "('Deep Purple', '2010', 1.98, 2)\n",
      "('Ed Motta', '2010', 1.98, 2)\n",
      "('Eric Clapton', '2010', 1.98, 2)\n",
      "('Gene Krupa', '2010', 1.98, 2)\n",
      "('Miles Davis', '2010', 1.98, 2)\n",
      "('Toquinho & Vinícius', '2010', 1.98, 2)\n",
      "('Various Artists', '2010', 1.98, 2)\n",
      "('Os Mutantes', '2010', 0.99, 10)\n",
      "('Santana', '2010', 0.99, 10)\n",
      "('Van Halen', '2011', 5.94, 1)\n",
      "('Red Hot Chili Peppers', '2011', 4.95, 2)\n",
      "('Raul Seixas', '2011', 2.9699999999999998, 3)\n",
      "('Toquinho & Vinícius', '2011', 2.9699999999999998, 3)\n",
      "('Amy Winehouse', '2011', 1.98, 5)\n",
      "('UB40', '2011', 1.98, 5)\n",
      "('Raimundos', '2011', 0.99, 7)\n",
      "('U2', '2011', 0.99, 7)\n",
      "('Various Artists', '2011', 0.99, 7)\n",
      "('The Office', '2012', 5.97, 1)\n",
      "('Antônio Carlos Jobim', '2012', 5.94, 2)\n",
      "('Iron Maiden', '2012', 5.94, 2)\n",
      "('Metallica', '2013', 5.94, 1)\n",
      "('Eric Clapton', '2013', 3.96, 2)\n",
      "('Gilberto Gil', '2013', 3.96, 2)\n",
      "('Godsmack', '2013', 1.98, 4)\n",
      "('U2', '2013', 0.99, 5)\n"
     ]
    }
   ],
   "source": [
    "engine = create_engine('sqlite:///chinook.db')\n",
    "result_set = engine.execute(\"SELECT ca.artist_name,ca.year,SUM(ca.UnitPrice) total,rank() over (partition by year order by SUM(ca.UnitPrice) desc) rank FROM (SELECT invoice_items.TrackId,invoice_items.UnitPrice,invoices.Total,invoices.InvoiceId AS invoice_id,STRFTIME( '%Y', invoices.InvoiceDate) AS year,invoices.BillingState,tracks.AlbumID AS album_id,artists.ArtistID AS artist_id,artists.Name AS artist_name FROM invoice_items INNER JOIN invoices ON invoices.InvoiceId = invoice_items.InvoiceId INNER JOIN tracks ON tracks.TrackId = invoice_items.TrackId INNER JOIN albums ON albums.AlbumId = tracks.AlbumId INNER JOIN artists ON artists.ArtistId = albums.ArtistId WHERE invoices.BillingState = 'CA') ca GROUP BY 1, 2\")\n",
    "for r in result_set:\n",
    "    print(r)\n"
   ]
  }
 ],
 "metadata": {
  "kernelspec": {
   "display_name": "Python 3",
   "language": "python",
   "name": "python3"
  },
  "language_info": {
   "codemirror_mode": {
    "name": "ipython",
    "version": 3
   },
   "file_extension": ".py",
   "mimetype": "text/x-python",
   "name": "python",
   "nbconvert_exporter": "python",
   "pygments_lexer": "ipython3",
   "version": "3.7.6"
  }
 },
 "nbformat": 4,
 "nbformat_minor": 2
}
